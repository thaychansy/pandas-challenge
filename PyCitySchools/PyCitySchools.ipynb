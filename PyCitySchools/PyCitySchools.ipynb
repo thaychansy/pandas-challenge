{
 "cells": [
  {
   "cell_type": "markdown",
   "metadata": {},
   "source": [
    "# PyCity Schools Analysis\n",
    "\n",
    "## Observations/Findings by Thay Chansy:\n",
    "\n",
    "<p><strong>Reading Scores</strong>: Charter schools seem to have an edge in reading. This analysis found that in the PyCity Schools, more Charter schools showed significant gains in reading compared to traditional District schools with similar students. </p>\n",
    "<p><strong>Math Scores</strong>: The results in math follow the same trend as the reading data where Charter schools scores are higher than District schools. </p>\n",
    "<p><strong>Overall Scores</strong>: The data suggests that Charter schools outperform District schools overall. Charter schools had a significantly higher percentage of students passing both math and reading tests at (90.43% vs 53.67%).</p>\n",
    "\n",
    "<p><strong>Budget</strong>: While District schools have a larger total budget, however the budget per student is not significantly higher than Charter schools.</p>\n",
    "\n",
    "\n",
    "\n",
    "<p><strong>Charter Schools</strong>: (Budget: <strong>\\$7,301,505</strong>)  (Student Count: <strong>12,194</strong>)  (Budget per Student: <strong>\\$598.78</strong>)</p>          \n",
    "<p><strong>District Schools</strong>: (Budget: <strong>\\$17,347,923</strong>) (Student Count: <strong>26,976</strong>)  (Budget per Student: <strong>\\$643.09</strong>)</p>             \n",
    "  \n",
    "---"
   ]
  },
  {
   "cell_type": "code",
   "execution_count": null,
   "metadata": {},
   "outputs": [],
   "source": [
    "# Dependencies and Setup\n",
    "import warnings\n",
    "warnings.simplefilter(action='ignore', category=FutureWarning)\n",
    "import pandas as pd\n",
    "from pathlib import Path\n",
    "\n",
    "# File to Load (Remember to Change These)\n",
    "school_data_to_load = Path(\"Resources/schools_complete.csv\")\n",
    "student_data_to_load = Path(\"Resources/students_complete.csv\")\n",
    "\n",
    "# Read School and Student Data File and store into Pandas DataFrames\n",
    "school_data = pd.read_csv(school_data_to_load)\n",
    "student_data = pd.read_csv(student_data_to_load)\n",
    "\n",
    "# Combine the data into a single dataset.\n",
    "school_data_complete = pd.merge(student_data, school_data, how=\"left\", on=[\"school_name\", \"school_name\"])\n",
    "\n",
    "# Display results first 5 \n",
    "school_data_complete.head()\n"
   ]
  },
  {
   "cell_type": "markdown",
   "metadata": {},
   "source": [
    "## District Summary"
   ]
  },
  {
   "cell_type": "code",
   "execution_count": null,
   "metadata": {},
   "outputs": [],
   "source": [
    "# Calculate the total number of unique schools\n",
    "school_count = school_data_complete['school_name'].nunique()\n",
    "\n",
    "# Display results\n",
    "school_count"
   ]
  },
  {
   "cell_type": "code",
   "execution_count": null,
   "metadata": {},
   "outputs": [],
   "source": [
    "# Calculate the total number of students\n",
    "student_count = school_data_complete['Student ID'].nunique()\n",
    "\n",
    "# Display results\n",
    "student_count\n"
   ]
  },
  {
   "cell_type": "code",
   "execution_count": null,
   "metadata": {},
   "outputs": [],
   "source": [
    "# Calculate the total budget\n",
    "total_budget = school_data['budget'].sum()\n",
    "\n",
    "# Display results\n",
    "total_budget\n"
   ]
  },
  {
   "cell_type": "code",
   "execution_count": null,
   "metadata": {},
   "outputs": [],
   "source": [
    "# Calculate the average (mean) math score\n",
    "average_math_score = student_data['math_score'].mean()\n",
    "\n",
    "# Display results\n",
    "average_math_score\n"
   ]
  },
  {
   "cell_type": "code",
   "execution_count": null,
   "metadata": {},
   "outputs": [],
   "source": [
    "# Calculate the average (mean) reading score\n",
    "average_reading_score = student_data['reading_score'].mean()\n",
    "\n",
    "# Display results\n",
    "average_reading_score\n"
   ]
  },
  {
   "cell_type": "code",
   "execution_count": null,
   "metadata": {},
   "outputs": [],
   "source": [
    "# Use the following to calculate the percentage of students who passed math (math scores greather than or equal to 70)\n",
    "passing_math_count = school_data_complete[(school_data_complete[\"math_score\"] >= 70)].count()[\"student_name\"]\n",
    "passing_math_percentage = passing_math_count / float(student_count) * 100\n",
    "\n",
    "# Display results\n",
    "passing_math_percentage\n"
   ]
  },
  {
   "cell_type": "code",
   "execution_count": null,
   "metadata": {},
   "outputs": [],
   "source": [
    "# Calculate the percentage of students who passed reading (hint: look at how the math percentage was calculated)\n",
    "passing_reading_count = school_data_complete[(school_data_complete[\"reading_score\"] >= 70)].count()[\"student_name\"]\n",
    "passing_reading_percentage = passing_reading_count / float(student_count) * 100\n",
    "\n",
    "# Display results\n",
    "passing_reading_percentage\n"
   ]
  },
  {
   "cell_type": "code",
   "execution_count": null,
   "metadata": {},
   "outputs": [],
   "source": [
    "# Use the following to calculate the percentage of students that passed math and reading\n",
    "passing_math_reading_count = school_data_complete[\n",
    "    (school_data_complete[\"math_score\"] >= 70) & (school_data_complete[\"reading_score\"] >= 70)\n",
    "].count()[\"student_name\"]\n",
    "overall_passing_rate = passing_math_reading_count /  float(student_count) * 100\n",
    "\n",
    "# Display results\n",
    "overall_passing_rate\n"
   ]
  },
  {
   "cell_type": "code",
   "execution_count": null,
   "metadata": {},
   "outputs": [],
   "source": [
    "# Create a high-level snapshot of the district's key metrics in a DataFrame\n",
    "district_summary = pd.DataFrame([{\n",
    "    \"Total Schools\": school_count,\n",
    "    \"Total Students\": student_count,\n",
    "    \"Total Budget\": total_budget,\n",
    "    \"Average Math Score\": average_math_score,\n",
    "    \"Average Reading Score\": average_reading_score,\n",
    "    \"% Passing Math\": passing_math_percentage,\n",
    "    \"% Passing Reading\": passing_reading_percentage,\n",
    "    \"% Overall Passing\": overall_passing_rate\n",
    "}])\n",
    "\n",
    "# Formatting\n",
    "district_summary[\"Total Students\"] = district_summary[\"Total Students\"].map(\"{:,}\".format)\n",
    "district_summary[\"Total Budget\"] = district_summary[\"Total Budget\"].map(\"${:,.2f}\".format)\n",
    "district_summary[\"Average Math Score\"] = district_summary[\"Average Math Score\"].map(\"{:.2f}\".format)\n",
    "district_summary[\"Average Reading Score\"] = district_summary[\"Average Reading Score\"].map(\"{:.2f}\".format)\n",
    "district_summary[\"% Passing Math\"] = district_summary[\"% Passing Math\"].map(\"{:.2f}\".format)\n",
    "district_summary[\"% Passing Reading\"] = district_summary[\"% Passing Reading\"].map(\"{:.2f}\".format)\n",
    "district_summary[\"% Overall Passing\"] = district_summary[\"% Overall Passing\"].map(\"{:.2f}\".format)\n",
    "\n",
    "# Display the DataFrame\n",
    "district_summary\n",
    "\n"
   ]
  },
  {
   "cell_type": "markdown",
   "metadata": {},
   "source": [
    "## School Summary"
   ]
  },
  {
   "cell_type": "code",
   "execution_count": null,
   "metadata": {},
   "outputs": [],
   "source": [
    "# Use the code provided to select the type per school from school_data\n",
    "school_type = school_data.set_index([\"school_name\"])[\"type\"]\n",
    "\n",
    "# Display results\n",
    "school_type\n",
    "\n"
   ]
  },
  {
   "cell_type": "code",
   "execution_count": null,
   "metadata": {},
   "outputs": [],
   "source": [
    "# Calculate the total student count per school from school_data\n",
    "per_school_counts = school_data_complete.groupby('school_name')['Student ID'].count()\n",
    "\n",
    "# Display results\n",
    "per_school_counts\n",
    "\n"
   ]
  },
  {
   "cell_type": "code",
   "execution_count": null,
   "metadata": {},
   "outputs": [],
   "source": [
    "# Calculate the total school budget and per capita spending per school from school_data\n",
    "\n",
    "\n",
    "per_school_budget = school_data.groupby('school_name')['budget'].sum()\n",
    "\n",
    "# Save results\n",
    "per_school_budget\n",
    "\n",
    "per_school_capita = per_school_budget / per_school_counts\n",
    "\n",
    "# Save results\n",
    "per_school_capita\n",
    "\n"
   ]
  },
  {
   "cell_type": "code",
   "execution_count": null,
   "metadata": {},
   "outputs": [],
   "source": [
    "# Calculate the average test scores per school from school_data_complete\n",
    "per_school_math = school_data_complete.groupby('school_name')['math_score'].mean()\n",
    "\n",
    "# Save results\n",
    "per_school_math\n",
    "\n",
    "per_school_reading = school_data_complete.groupby('school_name')['reading_score'].mean()\n",
    "\n",
    "# Save results\n",
    "per_school_reading\n",
    "\n"
   ]
  },
  {
   "cell_type": "code",
   "execution_count": null,
   "metadata": {},
   "outputs": [],
   "source": [
    "# Calculate the number of students per school with math scores of 70 or higher from school_data_complete\n",
    "students_passing_math = student_data[student_data['math_score'] >= 70]['student_name'].count()\n",
    "school_students_passing_math = (school_data_complete[school_data_complete['math_score'] >= 70].groupby('school_name')['math_score'].count())\n",
    "\n",
    "# Display results\n",
    "school_students_passing_math"
   ]
  },
  {
   "cell_type": "code",
   "execution_count": null,
   "metadata": {},
   "outputs": [],
   "source": [
    "# Calculate the number of students per school with reading scores of 70 or higher from school_data_complete\n",
    "students_passing_reading = student_data[student_data['reading_score'] >= 70]['student_name'].count()\n",
    "school_students_passing_reading = (school_data_complete[school_data_complete['reading_score'] >= 70].groupby('school_name')['reading_score'].count())\n",
    "\n",
    "# Display results\n",
    "school_students_passing_reading"
   ]
  },
  {
   "cell_type": "code",
   "execution_count": null,
   "metadata": {},
   "outputs": [],
   "source": [
    "# Use the provided code to calculate the number of students per school that passed both math and reading with scores of 70 or higher\n",
    "students_passing_math_and_reading = school_data_complete[\n",
    "    (school_data_complete['reading_score'] >= 70) & (school_data_complete['math_score'] >= 70)]\n",
    "\n",
    "school_students_passing_math_and_reading = students_passing_math_and_reading.groupby(['school_name']).size()\n",
    "\n",
    "# Display results\n",
    "students_passing_math_and_reading.groupby('school_name')['Student ID'].count()"
   ]
  },
  {
   "cell_type": "code",
   "execution_count": null,
   "metadata": {},
   "outputs": [],
   "source": [
    "# Use the provided code to calculate the passing rates\n",
    "per_school_passing_math = school_students_passing_math / per_school_counts * 100\n",
    "per_school_passing_reading = school_students_passing_reading / per_school_counts * 100\n",
    "overall_passing_rate = school_students_passing_math_and_reading / per_school_counts * 100\n",
    "\n",
    "# Display results\n",
    "overall_passing_rate\n"
   ]
  },
  {
   "cell_type": "code",
   "execution_count": null,
   "metadata": {},
   "outputs": [],
   "source": [
    "# Create a DataFrame called `per_school_summary` with columns for the calculations above.\n",
    "per_school_summary = pd.DataFrame({\n",
    "    \"School Type\": school_type,\n",
    "    \"Total Students\": per_school_counts,\n",
    "    \"Total School Budget\": per_school_budget,\n",
    "    \"Per Student Budget\": per_school_capita,\n",
    "    \"Average Math Score\": per_school_math,\n",
    "    \"Average Reading Score\": per_school_reading,\n",
    "    \"% Passing Math\": per_school_passing_math,\n",
    "    \"% Passing Reading\": per_school_passing_reading,\n",
    "    \"% Overall Passing\": overall_passing_rate})\n",
    "\n",
    "# Formatting\n",
    "per_school_summary[\"Total School Budget\"] = per_school_summary[\"Total School Budget\"].map(\"${:,.2f}\".format)\n",
    "per_school_summary[\"Per Student Budget\"] = per_school_summary[\"Per Student Budget\"].map(\"${:,.2f}\".format)\n",
    "\n",
    "# Display the DataFrame\n",
    "per_school_summary\n"
   ]
  },
  {
   "cell_type": "markdown",
   "metadata": {},
   "source": [
    "## Highest-Performing Schools (by % Overall Passing)"
   ]
  },
  {
   "cell_type": "code",
   "execution_count": null,
   "metadata": {
    "scrolled": true
   },
   "outputs": [],
   "source": [
    "# Sort the schools by `% Overall Passing` in descending order and display the top 5 rows.\n",
    "top_schools = per_school_summary.sort_values(['% Overall Passing'],ascending = False)\n",
    "\n",
    "# Display results first 5 \n",
    "top_schools.head(5)\n"
   ]
  },
  {
   "cell_type": "markdown",
   "metadata": {},
   "source": [
    "## Bottom Performing Schools (By % Overall Passing)"
   ]
  },
  {
   "cell_type": "code",
   "execution_count": null,
   "metadata": {},
   "outputs": [],
   "source": [
    "# Sort the schools by `% Overall Passing` in ascending order and display the top 5 rows.\n",
    "bottom_schools = per_school_summary.sort_values(['% Overall Passing'],ascending = True)\n",
    "\n",
    "# Display results first 5\n",
    "bottom_schools.head(5)\n"
   ]
  },
  {
   "cell_type": "markdown",
   "metadata": {},
   "source": [
    "## Math Scores by Grade"
   ]
  },
  {
   "cell_type": "code",
   "execution_count": null,
   "metadata": {},
   "outputs": [],
   "source": [
    "# Use the code provided to separate the data by grade\n",
    "ninth_graders = school_data_complete[(school_data_complete[\"grade\"] == \"9th\")]\n",
    "tenth_graders = school_data_complete[(school_data_complete[\"grade\"] == \"10th\")]\n",
    "eleventh_graders = school_data_complete[(school_data_complete[\"grade\"] == \"11th\")]\n",
    "twelfth_graders = school_data_complete[(school_data_complete[\"grade\"] == \"12th\")]\n",
    "\n",
    "# Group by `school_name` and take the mean of the `math_score` column for each.\n",
    "ninth_grade_math_scores = ninth_graders.groupby([\"school_name\"])[\"math_score\"].mean()\n",
    "tenth_grade_math_scores = tenth_graders.groupby([\"school_name\"])[\"math_score\"].mean()\n",
    "eleventh_grade_math_scores = eleventh_graders.groupby([\"school_name\"])[\"math_score\"].mean()\n",
    "twelfth_grade_math_scores = twelfth_graders.groupby([\"school_name\"])[\"math_score\"].mean()\n",
    "\n",
    "# Combine each of the scores above into single DataFrame called `math_scores_by_grade`\n",
    "math_scores_by_grade = pd.DataFrame({\n",
    "                \"9th\": ninth_grade_math_scores,\n",
    "                \"10th\": tenth_grade_math_scores,\n",
    "                \"11th\": eleventh_grade_math_scores,\n",
    "                \"12th\": twelfth_grade_math_scores})\n",
    "\n",
    "# Minor data wrangling\n",
    "math_scores_by_grade.index.name = None\n",
    "\n",
    "# Display the DataFrame\n",
    "math_scores_by_grade\n"
   ]
  },
  {
   "cell_type": "markdown",
   "metadata": {},
   "source": [
    "## Reading Score by Grade "
   ]
  },
  {
   "cell_type": "code",
   "execution_count": null,
   "metadata": {},
   "outputs": [],
   "source": [
    "# Use the code provided to separate the data by grade\n",
    "ninth_graders = school_data_complete[(school_data_complete[\"grade\"] == \"9th\")]\n",
    "tenth_graders = school_data_complete[(school_data_complete[\"grade\"] == \"10th\")]\n",
    "eleventh_graders = school_data_complete[(school_data_complete[\"grade\"] == \"11th\")]\n",
    "twelfth_graders = school_data_complete[(school_data_complete[\"grade\"] == \"12th\")]\n",
    "\n",
    "# Group by `school_name` and take the mean of the the `reading_score` column for each.\n",
    "ninth_grade_reading_scores = ninth_graders.groupby([\"school_name\"])[\"reading_score\"].mean()\n",
    "tenth_grade_reading_scores = tenth_graders.groupby([\"school_name\"])[\"reading_score\"].mean()\n",
    "eleventh_grade_reading_scores = eleventh_graders.groupby([\"school_name\"])[\"reading_score\"].mean()\n",
    "twelfth_grade_reading_scores = twelfth_graders.groupby([\"school_name\"])[\"reading_score\"].mean()\n",
    "\n",
    "# Combine each of the scores above into single DataFrame called `reading_scores_by_grade`\n",
    "reading_scores_by_grade = pd.DataFrame({\n",
    "                \"9th\": ninth_grade_reading_scores,\n",
    "                \"10th\": tenth_grade_reading_scores,\n",
    "                \"11th\": eleventh_grade_reading_scores,\n",
    "                \"12th\": twelfth_grade_reading_scores})\n",
    "\n",
    "# Minor data wrangling\n",
    "reading_scores_by_grade = reading_scores_by_grade[[\"9th\", \"10th\", \"11th\", \"12th\"]]\n",
    "reading_scores_by_grade.index.name = None\n",
    "\n",
    "# Display the DataFrame\n",
    "reading_scores_by_grade\n"
   ]
  },
  {
   "cell_type": "markdown",
   "metadata": {},
   "source": [
    "## Scores by School Spending"
   ]
  },
  {
   "cell_type": "code",
   "execution_count": null,
   "metadata": {},
   "outputs": [],
   "source": [
    "# Establish the bins\n",
    "spending_bins = [0, 585, 630, 645, 680]\n",
    "labels = [\"<$585\", \"$585-630\", \"$630-645\", \"$645-680\"]\n"
   ]
  },
  {
   "cell_type": "code",
   "execution_count": null,
   "metadata": {},
   "outputs": [],
   "source": [
    "# Create a copy of the school summary since it has the \"Per Student Budget\"\n",
    "school_spending_df = per_school_summary.copy()\n"
   ]
  },
  {
   "cell_type": "code",
   "execution_count": null,
   "metadata": {},
   "outputs": [],
   "source": [
    "# Use `pd.cut` to categorize spending based on the bins.\n",
    "school_spending_df[\"Spending Ranges (Per Student)\"] = pd.cut(per_school_capita, spending_bins, labels=labels)\n",
    "\n",
    "# Display results\n",
    "school_spending_df\n"
   ]
  },
  {
   "cell_type": "code",
   "execution_count": null,
   "metadata": {},
   "outputs": [],
   "source": [
    "#  Calculate averages for the desired columns.\n",
    "spending_math_scores = school_spending_df.groupby([\"Spending Ranges (Per Student)\"])[\"Average Math Score\"].mean()\n",
    "spending_reading_scores = school_spending_df.groupby([\"Spending Ranges (Per Student)\"])[\"Average Reading Score\"].mean()\n",
    "spending_passing_math = school_spending_df.groupby([\"Spending Ranges (Per Student)\"])[\"% Passing Math\"].mean()\n",
    "spending_passing_reading = school_spending_df.groupby([\"Spending Ranges (Per Student)\"])[\"% Passing Reading\"].mean()\n",
    "overall_passing_spending = school_spending_df.groupby([\"Spending Ranges (Per Student)\"])[\"% Overall Passing\"].mean()\n",
    "\n",
    "# Warning displayed below but has no impact on code"
   ]
  },
  {
   "cell_type": "code",
   "execution_count": null,
   "metadata": {},
   "outputs": [],
   "source": [
    "# Assemble into DataFrame\n",
    "spending_summary = pd.DataFrame({\n",
    "                \"Average Math Score\": spending_math_scores,\n",
    "                \"Average Reading Score\": spending_reading_scores,\n",
    "                \"% Passing Math\": spending_passing_math,\n",
    "                \"% Passing Reading\": spending_passing_reading,\n",
    "                \"% Overall Passing\": overall_passing_spending                \n",
    "                })\n",
    "\n",
    "# Display results\n",
    "spending_summary\n"
   ]
  },
  {
   "cell_type": "markdown",
   "metadata": {},
   "source": [
    "## Scores by School Size"
   ]
  },
  {
   "cell_type": "code",
   "execution_count": null,
   "metadata": {},
   "outputs": [],
   "source": [
    "# Establish the bins.\n",
    "size_bins = [0, 1000, 2000, 5000]\n",
    "labels = [\"Small (<1000)\", \"Medium (1000-2000)\", \"Large (2000-5000)\"]\n",
    "\n",
    "# Display results\n",
    "per_school_summary\n",
    "\n"
   ]
  },
  {
   "cell_type": "code",
   "execution_count": null,
   "metadata": {},
   "outputs": [],
   "source": [
    "# Categorize the spending based on the bins\n",
    "# Use `pd.cut` on the \"Total Students\" column of the `per_school_summary` DataFrame.\n",
    "\n",
    "per_school_summary[\"School Size\"] = pd.cut(per_school_summary['Total Students'], size_bins, labels=labels)\n",
    "# Display results\n",
    "per_school_summary\n"
   ]
  },
  {
   "cell_type": "code",
   "execution_count": null,
   "metadata": {},
   "outputs": [],
   "source": [
    "# Calculate averages for the desired columns.\n",
    "size_math_scores = per_school_summary.groupby([\"School Size\"])[\"Average Math Score\"].mean()\n",
    "size_reading_scores = per_school_summary.groupby([\"School Size\"])[\"Average Reading Score\"].mean()\n",
    "size_passing_math = per_school_summary.groupby([\"School Size\"])[\"% Passing Math\"].mean()\n",
    "size_passing_reading = per_school_summary.groupby([\"School Size\"])[\"% Passing Reading\"].mean()\n",
    "size_overall_passing = per_school_summary.groupby([\"School Size\"])[\"% Overall Passing\"].mean()\n",
    "\n",
    "# Warning displayed below but has no impact on code"
   ]
  },
  {
   "cell_type": "code",
   "execution_count": null,
   "metadata": {
    "scrolled": true
   },
   "outputs": [],
   "source": [
    "# Create a DataFrame called `size_summary` that breaks down school performance based on school size (small, medium, or large).\n",
    "# Use the scores above to create a new DataFrame called `size_summary`\n",
    "size_summary = pd.DataFrame({\n",
    "                \"Average Math Score\": size_math_scores,\n",
    "                \"Average Reading Score\": size_reading_scores,\n",
    "                \"% Passing Math\": size_passing_math,\n",
    "                \"% Passing Reading\": size_passing_reading,\n",
    "                \"% Overall Passing\": size_overall_passing                \n",
    "                })\n",
    "\n",
    "# Display results\n",
    "size_summary\n"
   ]
  },
  {
   "cell_type": "markdown",
   "metadata": {},
   "source": [
    "## Scores by School Type"
   ]
  },
  {
   "cell_type": "code",
   "execution_count": null,
   "metadata": {},
   "outputs": [],
   "source": [
    "# Group the per_school_summary DataFrame by \"School Type\" and average the results.\n",
    "average_math_score_by_type = per_school_summary.groupby([\"School Type\"])[\"Average Math Score\"].mean()\n",
    "average_reading_score_by_type = per_school_summary.groupby([\"School Type\"])[\"Average Reading Score\"].mean()\n",
    "average_percent_passing_math_by_type = per_school_summary.groupby([\"School Type\"])[\"% Passing Math\"].mean()\n",
    "average_percent_passing_reading_by_type = per_school_summary.groupby([\"School Type\"])[\"% Passing Reading\"].mean()\n",
    "average_percent_overall_passing_by_type = per_school_summary.groupby([\"School Type\"])[\"% Overall Passing\"].mean()\n"
   ]
  },
  {
   "cell_type": "code",
   "execution_count": null,
   "metadata": {},
   "outputs": [],
   "source": [
    "# Assemble the new data by type into a DataFrame called `type_summary`\n",
    "type_summary = pd.DataFrame({\n",
    "                \"Average Math Score\": average_math_score_by_type,\n",
    "                \"Average Reading Score\": average_reading_score_by_type,\n",
    "                \"% Passing Math\": average_percent_passing_math_by_type,\n",
    "                \"% Passing Reading\": average_percent_passing_reading_by_type,\n",
    "                \"% Overall Passing\": average_percent_overall_passing_by_type                \n",
    "                })\n",
    "\n",
    "# Display results\n",
    "type_summary\n"
   ]
  }
 ],
 "metadata": {
  "anaconda-cloud": {},
  "kernel_info": {
   "name": "python3"
  },
  "kernelspec": {
   "display_name": "Python 3 (ipykernel)",
   "language": "python",
   "name": "python3"
  },
  "language_info": {
   "codemirror_mode": {
    "name": "ipython",
    "version": 3
   },
   "file_extension": ".py",
   "mimetype": "text/x-python",
   "name": "python",
   "nbconvert_exporter": "python",
   "pygments_lexer": "ipython3",
   "version": "3.12.3"
  },
  "latex_envs": {
   "LaTeX_envs_menu_present": true,
   "autoclose": false,
   "autocomplete": true,
   "bibliofile": "biblio.bib",
   "cite_by": "apalike",
   "current_citInitial": 1,
   "eqLabelWithNumbers": true,
   "eqNumInitial": 1,
   "hotkeys": {
    "equation": "Ctrl-E",
    "itemize": "Ctrl-I"
   },
   "labels_anchors": false,
   "latex_user_defs": false,
   "report_style_numbering": false,
   "user_envs_cfg": false
  },
  "nteract": {
   "version": "0.8.4"
  },
  "vscode": {
   "interpreter": {
    "hash": "5384d77d82de63fd599f73e77f9ec786e7719288bf80a29ec0288c670ac3cf32"
   }
  }
 },
 "nbformat": 4,
 "nbformat_minor": 4
}
